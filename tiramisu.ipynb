{
 "cells": [
  {
   "cell_type": "code",
   "execution_count": null,
   "metadata": {},
   "outputs": [],
   "source": [
    "import os\n",
    "os.chdir('/')\n",
    "\n",
    "import matplotlib\n",
    "import numpy as np\n",
    "import tensorflow as tf\n",
    "\n",
    "import tfplot\n",
    "\n",
    "from exch.scripts.sampler.Sampler import batchload\n",
    "from exch.scripts.tensorflow_tiramisu.Tiramisu import Tiramisu"
   ]
  },
  {
   "cell_type": "code",
   "execution_count": null,
   "metadata": {},
   "outputs": [],
   "source": [
    "iteration = str(67)\n",
    "\n",
    "FILEDIR='/exch/gdrive/relevant_tiles'\n",
    "boarddir_train = '/exch/scripts/tb_logs/train/'+iteration\n",
    "boarddir_test = '/exch/scripts/tb_logs/test/'+iteration\n",
    "SESSIONDIR = '/exch/scripts/tf_sess'\n",
    "MODELFILE=SESSIONDIR+\"/model\"+iteration+\".ckpt\"\n",
    "\n",
    "num_epochs = 10000\n",
    "display_step = 2"
   ]
  },
  {
   "cell_type": "code",
   "execution_count": null,
   "metadata": {},
   "outputs": [],
   "source": [
    "T = Tiramisu()"
   ]
  },
  {
   "cell_type": "code",
   "execution_count": null,
   "metadata": {},
   "outputs": [],
   "source": [
    "X_batches, y_batches, xte, yte, MNs, SDs = batchload(FILEDIR, 0.8, int(8), int(3), int(32), False)\n",
    "yte = np.expand_dims(np.array(yte), 3)\n",
    "\n",
    "#X_batches = X_batches[:6]\n",
    "#y_batches = y_batches[:6]"
   ]
  },
  {
   "cell_type": "code",
   "execution_count": null,
   "metadata": {},
   "outputs": [],
   "source": [
    "train_writer = tf.summary.FileWriter(boarddir_train)\n",
    "test_writer = tf.summary.FileWriter(boarddir_test)\n",
    "\n",
    "init = tf.global_variables_initializer()\n",
    "saver = tf.train.Saver()"
   ]
  },
  {
   "cell_type": "code",
   "execution_count": null,
   "metadata": {},
   "outputs": [],
   "source": [
    "with tf.Session() as sess:\n",
    "    tf.global_variables_initializer().run()\n",
    "    tf.local_variables_initializer().run()\n",
    "    for e in range(1, num_epochs + 1):\n",
    "        print('Epoch: ' + str(e))\n",
    "        for i, xb in enumerate(X_batches):\n",
    "            #print('Iteration: ' + str(i))\n",
    "            yb = np.expand_dims(y_batches[i],3)\n",
    "            sess.run(T.train_op, feed_dict={T.X: xb, T.y: yb, T.phase:True, T.kp:.8})\n",
    "        \n",
    "        if e % display_step == 0 or e == 1:\n",
    "            print('val')\n",
    "            summary, loss, acc = sess.run([T.merged, T.loss, T.acc], feed_dict={T.X: xb,\n",
    "                                                                     T.y: yb,\n",
    "                                                                     T.phase: False,\n",
    "                                                                     T.kp: 1.})\n",
    "            print(\"Training Accuracy: \"+str(acc))\n",
    "            train_writer.add_summary(summary, e)\n",
    "            \n",
    "            summary, loss, acc = sess.run([T.merged, T.loss, T.acc], feed_dict={T.X: xte,\n",
    "                                          T.y: yte,\n",
    "                                          T.phase: False,                                                                   \n",
    "                                          T.kp: 1.})            \n",
    "            print(\"Validation Accuracy: \"+str(acc))\n",
    "            test_writer.add_summary(summary, e)\n",
    "            \n",
    "            save_path = saver.save(sess, MODELFILE)\n",
    "            print(\"Model saved in file: %s\" % save_path)"
   ]
  }
 ],
 "metadata": {
  "kernelspec": {
   "display_name": "Python 3",
   "language": "python",
   "name": "python3"
  },
  "language_info": {
   "codemirror_mode": {
    "name": "ipython",
    "version": 3
   },
   "file_extension": ".py",
   "mimetype": "text/x-python",
   "name": "python",
   "nbconvert_exporter": "python",
   "pygments_lexer": "ipython3",
   "version": "3.5.4"
  }
 },
 "nbformat": 4,
 "nbformat_minor": 2
}
